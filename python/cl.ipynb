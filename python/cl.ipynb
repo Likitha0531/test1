{
 "cells": [
  {
   "cell_type": "code",
   "execution_count": 3,
   "metadata": {},
   "outputs": [
    {
     "name": "stdout",
     "output_type": "stream",
     "text": [
      "31\n",
      "27\n",
      "35\n",
      "33\n"
     ]
    }
   ],
   "source": [
    "dbms1 = 32\n",
    "dbms2 = 30\n",
    "cn1 = 28\n",
    "cn2 = 27\n",
    "daa1 = 36\n",
    "daa2 = 34\n",
    "ds1 = 32\n",
    "ds2 = 34\n",
    "m1=20/100\n",
    "m2=80/100\n",
    "a1 = dbms1*m2\n",
    "a2 = dbms2*m1\n",
    "dbms=a1+a2\n",
    "print(int(dbms))\n",
    "b1 = cn1*m2\n",
    "b2 = cn2*m1\n",
    "cn=b1+b2\n",
    "print(int(cn))\n",
    "c1 = daa1*m2\n",
    "c2 = daa2*m1\n",
    "daa=c1+c2\n",
    "print(int(daa))\n",
    "d1 = ds1*m1\n",
    "d2 = ds2*m2\n",
    "ds=d1+d2\n",
    "print(int(ds))"
   ]
  }
 ],
 "metadata": {
  "kernelspec": {
   "display_name": "Python 3",
   "language": "python",
   "name": "python3"
  },
  "language_info": {
   "codemirror_mode": {
    "name": "ipython",
    "version": 3
   },
   "file_extension": ".py",
   "mimetype": "text/x-python",
   "name": "python",
   "nbconvert_exporter": "python",
   "pygments_lexer": "ipython3",
   "version": "3.10.8"
  },
  "orig_nbformat": 4,
  "vscode": {
   "interpreter": {
    "hash": "6757c6249fa9ba6e437babc6a802481cb5e3be9bb73cdc4ceb3b44c2fa3ed06a"
   }
  }
 },
 "nbformat": 4,
 "nbformat_minor": 2
}
